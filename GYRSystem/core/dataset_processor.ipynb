{
 "cells": [
  {
   "cell_type": "code",
   "execution_count": 1,
   "id": "2b926b5b",
   "metadata": {},
   "outputs": [],
   "source": [
    "import pandas as pd\n",
    "import random"
   ]
  },
  {
   "cell_type": "code",
   "execution_count": 2,
   "id": "b6d95f87",
   "metadata": {},
   "outputs": [],
   "source": [
    "# 1. Load your dataset\n",
    "df = pd.read_csv(\"UnprocessedDataSet.csv\")\n",
    "\n",
    "\n",
    "# Clean column names if needed\n",
    "df.columns = [col.strip().lower() for col in df.columns]\n",
    "if 'category' not in df.columns:\n",
    "    raise ValueError(\"Dataset must have a 'Category' column.\")\n",
    "if 'resume' not in df.columns:\n",
    "    raise ValueError(\"Dataset must have a 'Resume' column.\")"
   ]
  },
  {
   "cell_type": "code",
   "execution_count": 3,
   "id": "fc108cef",
   "metadata": {},
   "outputs": [],
   "source": [
    "# 2. Create simple job descriptions per category (you can edit these)\n",
    "job_descriptions = {\n",
    "    'Data Science': \"Responsible for building and deploying machine learning models using Python, data analysis, and AI techniques.\",\n",
    "    'HR': \"Handles recruitment, employee relations, payroll, and training processes within an organization.\",\n",
    "    'Advocate': \"Represents clients in legal proceedings, drafts legal documents, and provides advice on legal rights.\",\n",
    "    'Arts': \"Creates, designs, and presents artistic works such as illustrations, paintings, or digital media.\",\n",
    "    'Web Designing': \"Designs and develops user-friendly websites with HTML, CSS, and JavaScript.\",\n",
    "    'Mechanical Engineer': \"Designs and maintains mechanical systems, equipment, and manufacturing processes.\",\n",
    "    'Sales': \"Manages client relationships, generates leads, and meets sales targets.\",\n",
    "    'Health and fitness': \"Provides physical training, nutrition advice, and fitness programs for individuals.\",\n",
    "    'Finance': \"Analyzes financial data, prepares reports, and manages investment strategies.\",\n",
    "    'Software Engineer': \"Develops, tests, and maintains software applications and systems.\"\n",
    "}"
   ]
  },
  {
   "cell_type": "code",
   "execution_count": 4,
   "id": "b63ea96e",
   "metadata": {},
   "outputs": [],
   "source": [
    "# 3. Create job–resume pairs\n",
    "pairs = []\n",
    "\n",
    "for job_title, job_desc in job_descriptions.items():\n",
    "    # Positive samples (qualified)\n",
    "    qualified = df[df['category'].str.lower() == job_title.lower()]\n",
    "    for _, row in qualified.iterrows():\n",
    "        pairs.append({\n",
    "            'job_title': job_title,\n",
    "            'job_description': job_desc,\n",
    "            'resume_text': row['resume'],\n",
    "            'label': 1\n",
    "        })\n",
    "\n",
    "    # Negative samples (unqualified) — sample from other categories\n",
    "    unqualified = df[df['category'].str.lower() != job_title.lower()].sample(\n",
    "        n=min(len(qualified), len(df)//len(job_descriptions)), \n",
    "        random_state=42\n",
    "    )\n",
    "    for _, row in unqualified.iterrows():\n",
    "        pairs.append({\n",
    "            'job_title': job_title,\n",
    "            'job_description': job_desc,\n",
    "            'resume_text': row['resume'],\n",
    "            'label': 0\n",
    "        })\n"
   ]
  },
  {
   "cell_type": "code",
   "execution_count": 5,
   "id": "134ed127",
   "metadata": {},
   "outputs": [],
   "source": [
    "# 4. Create final dataframe\n",
    "final_df = pd.DataFrame(pairs)\n",
    "final_df = final_df.sample(frac=1, random_state=42).reset_index(drop=True)  # shuffle\n"
   ]
  },
  {
   "cell_type": "code",
   "execution_count": 6,
   "id": "4d1a151d",
   "metadata": {},
   "outputs": [
    {
     "name": "stdout",
     "output_type": "stream",
     "text": [
      "✅ Created dataset with 590 pairs and 8 job roles.\n",
      "       job_title                                    job_description  \\\n",
      "0          Sales  Manages client relationships, generates leads,...   \n",
      "1  Web Designing  Designs and develops user-friendly websites wi...   \n",
      "2          Sales  Manages client relationships, generates leads,...   \n",
      "3  Web Designing  Designs and develops user-friendly websites wi...   \n",
      "4           Arts  Creates, designs, and presents artistic works ...   \n",
      "\n",
      "                                         resume_text  label  \n",
      "0  I.T. Skills â¢ Windows XP, Ms Office (Word, E...      0  \n",
      "1  IT SKILLS Languages: C (Basic), JAVA (Basic) W...      1  \n",
      "2  Education Details \\r\\n\\r\\nHadoop Developer \\r\\...      0  \n",
      "3  Education Details \\r\\nFebruary 2006 to Februar...      0  \n",
      "4  Additional qualifications April 2000, Web Desi...      1  \n"
     ]
    }
   ],
   "source": [
    "# 5. Save output\n",
    "final_df.to_csv(\"ProcessedDataSet.csv\", index=False)\n",
    "print(f\"✅ Created dataset with {len(final_df)} pairs and {final_df['job_title'].nunique()} job roles.\")\n",
    "print(final_df.head())"
   ]
  }
 ],
 "metadata": {
  "kernelspec": {
   "display_name": "Python (Thesis Project)",
   "language": "python",
   "name": "thesis-env"
  },
  "language_info": {
   "codemirror_mode": {
    "name": "ipython",
    "version": 3
   },
   "file_extension": ".py",
   "mimetype": "text/x-python",
   "name": "python",
   "nbconvert_exporter": "python",
   "pygments_lexer": "ipython3",
   "version": "3.11.2"
  }
 },
 "nbformat": 4,
 "nbformat_minor": 5
}
